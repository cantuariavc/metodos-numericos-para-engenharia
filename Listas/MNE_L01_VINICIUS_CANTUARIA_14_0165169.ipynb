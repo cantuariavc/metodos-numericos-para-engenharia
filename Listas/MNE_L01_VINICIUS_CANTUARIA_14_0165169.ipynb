{
 "cells": [
  {
   "cell_type": "markdown",
   "metadata": {},
   "source": [
    "# Lista de Exercícios 01\n",
    "\n",
    "Métodos Numéricos para Engenharia - Turma C  \n",
    "Nome: Vinícius de Castro Cantuária\n",
    "\n",
    "Matrícula: 14/0165169"
   ]
  },
  {
   "cell_type": "markdown",
   "metadata": {},
   "source": [
    "Observações:\n",
    "\n",
    "0. A lista de exercícios deve ser entregue no moodle da disciplina.\n",
    "0. A lista de exercícios deve ser respondida neste único arquivo (.ipynb). Responda a cada questão na célula imediatamente abaixo do seu enunciado.\n",
    "0. Não se esqueça de alterar o nome do arquivo e o cabeçalho acima, colocando seu nome e matrícula.\n",
    "0. A lista é uma atividade avaliativa e individual. Não será tolerado qualquer tipo de plágio."
   ]
  },
  {
   "cell_type": "code",
   "execution_count": 1,
   "metadata": {},
   "outputs": [
    {
     "name": "stdout",
     "output_type": "stream",
     "text": [
      "Populating the interactive namespace from numpy and matplotlib\n"
     ]
    }
   ],
   "source": [
    "# Deixe-me incluir o conjunto de módulos do Python científico para você.\n",
    "%pylab inline"
   ]
  },
  {
   "cell_type": "markdown",
   "metadata": {},
   "source": [
    "---\n",
    "\n",
    "## Questão 01\n",
    "\n",
    "(Fonte: Problema 1015 do URI Online Judge) Leia quatro valores correspondentes aos eixos $x$ e $y$ de dois\n",
    "pontos quaisquer no plano: ($x_1$,$y_1$) e ($x_2$,$y_2$) e calcule a distância ($D$) entre eles, mostrando-a com 4 casas decimais após a vírgula, segundo a fórmula:\n",
    "\n",
    "$$ D = \\sqrt{(x_2 - x_1)^2 + (y_2 - y_1)^2} $$\n",
    "\n",
    "### Entrada\n",
    "\n",
    "O arquivo de entrada contém duas linhas de dados. A primeira linha contém dois valores de ponto flutuante: $x_1$ e $y_1$ e a segunda linha contém dois valores de ponto flutuante $x_2$ e $y_2$.\n",
    "\n",
    "### Saída\n",
    "\n",
    "Calcule e imprima o valor da distância segundo a fórmula fornecida, com 4 casas após o ponto decimal.\n",
    "\n",
    "#### Entrada de Teste\n",
    "1.0 7.0  \n",
    "5.0 9.0\n",
    "\n",
    "#### Saída de Teste\n",
    "4.4721"
   ]
  },
  {
   "cell_type": "code",
   "execution_count": 2,
   "metadata": {},
   "outputs": [
    {
     "name": "stdout",
     "output_type": "stream",
     "text": [
      "1.0 7.0\n",
      "5.0 9.0\n",
      "4.4721\n"
     ]
    }
   ],
   "source": [
    "p1 = [float(i) for i in input().split()]\n",
    "p2 = [float(i) for i in input().split()]\n",
    "d = np.sqrt((p1[0] - p2[0])**2 + (p1[1] - p2[1])**2)\n",
    "print(\"%.4f\" % d)"
   ]
  },
  {
   "cell_type": "markdown",
   "metadata": {
    "collapsed": true
   },
   "source": [
    "---\n",
    "\n",
    "## Questão 02\n",
    "\n",
    "(Fonte: Problema 1037 do URI Online Judge) Você deve fazer um programa que leia um valor qualquer e apresente uma mensagem dizendo em qual dos seguintes intervalos ($[0,25]$, $(25,50]$, $(50,75]$, $(75,100]$) este valor se encontra. Obviamente se o valor não estiver em nenhum destes intervalos, deverá ser impressa a mensagem “Fora de intervalo”.\n",
    "\n",
    "### Entrada\n",
    "\n",
    "O arquivo de entrada contém um número com ponto flutuante qualquer.\n",
    "\n",
    "### Saída\n",
    "\n",
    "A saída deve ser uma mensagem conforme exemplo abaixo.\n",
    "\n",
    "#### Entradas de Teste\n",
    "25.01\n",
    "\n",
    "#### Saídas de Teste\n",
    "Intervalo (25,50]"
   ]
  },
  {
   "cell_type": "code",
   "execution_count": 3,
   "metadata": {},
   "outputs": [
    {
     "name": "stdout",
     "output_type": "stream",
     "text": [
      "25.01\n",
      "Intervalo (25,50]\n"
     ]
    }
   ],
   "source": [
    "a = float(input())\n",
    "if a < 0:\n",
    "    print('Fora de intervalo')\n",
    "elif a <= 25:\n",
    "    print('Intervalo [0,25]')\n",
    "elif a <= 50:\n",
    "    print('Intervalo (25,50]')\n",
    "elif a <= 75:\n",
    "    print('Intervalo (50,75]')\n",
    "elif a <= 100:\n",
    "    print('Intervalo (75,100]')\n",
    "else:\n",
    "    print('Fora de intervalo')"
   ]
  },
  {
   "cell_type": "markdown",
   "metadata": {},
   "source": [
    "---\n",
    "\n",
    "## Questão 03\n",
    "\n",
    "(Fonte: Problema 1037 do URI Online Judge, adaptado) Leia $N$ valores inteiros. Apresente então o maior valor lido e a posição dentre os $N$ valores lidos.\n",
    "\n",
    "### Entrada\n",
    "\n",
    "A primeira linha do arquivo de entrada contém um inteiro positivo $N$ que indica a quantidade de números a serem lidos. As próximas $N$ linhas contém um número inteiro positivo cada.\n",
    "\n",
    "### Saída\n",
    "\n",
    "Apresente o maior valor lido e a posição de entrada, conforme exemplo abaixo.\n",
    "\n",
    "#### Entrada de Teste\n",
    "3  \n",
    "34565  \n",
    "1341  \n",
    "45\n",
    "\n",
    "#### Saída de Teste\n",
    "34565  \n",
    "1"
   ]
  },
  {
   "cell_type": "code",
   "execution_count": 4,
   "metadata": {},
   "outputs": [
    {
     "name": "stdout",
     "output_type": "stream",
     "text": [
      "3\n",
      "34565\n",
      "1341\n",
      "45\n",
      "34565\n",
      "0\n"
     ]
    }
   ],
   "source": [
    "n = int(input())\n",
    "\n",
    "max = 0\n",
    "idx = 0\n",
    "for i in range(n):\n",
    "    aux = int(input())\n",
    "    if aux > max:\n",
    "        max = aux\n",
    "        idx = i\n",
    "\n",
    "print(max)\n",
    "print(idx)"
   ]
  },
  {
   "cell_type": "markdown",
   "metadata": {},
   "source": [
    "---\n",
    "\n",
    "## Questão 04\n",
    "\n",
    "Dada uma string, verifique se ela é um palíndromo ou não. Palíndromos são strings lidas iguais, tanto de frente\n",
    "para trás quanto de trás para frente. Exemplos: \"ovo\", \"subi no onibus\", \"somos\", \"aaa\".\n",
    "\n",
    "### Entrada\n",
    "\n",
    "A entrada consiste de uma única string contendo apenas caracteres alfabéticos minúsculos e sem acentos.\n",
    "\n",
    "### Saída\n",
    "\n",
    "Imprima \"Palindromo encontrado\" caso a string seja um palíndromo ou \"Palindromo nao encontrado\", caso contrário.\n",
    "\n",
    "#### Entrada de Teste\n",
    "ovo\n",
    "\n",
    "#### Saída de Teste\n",
    "Palindromo encontrado"
   ]
  },
  {
   "cell_type": "code",
   "execution_count": 5,
   "metadata": {},
   "outputs": [
    {
     "name": "stdout",
     "output_type": "stream",
     "text": [
      "ovo\n",
      "Palindromo encontrado\n"
     ]
    }
   ],
   "source": [
    "string = input()\n",
    "if string == string[::-1]:\n",
    "    print('Palindromo encontrado')\n",
    "else:\n",
    "    print('Palindromo nao encontrado')"
   ]
  },
  {
   "cell_type": "markdown",
   "metadata": {},
   "source": [
    "---\n",
    "\n",
    "## Questão 05\n",
    "\n",
    "Iniciando a utilização do módulo _numpy_. Resolva os exercícios abaixo."
   ]
  },
  {
   "cell_type": "markdown",
   "metadata": {},
   "source": [
    "**5.1.** Defina uma variável $x$ e atribua algum valor numérico a ela. Compute os valores de $x^2$ e $x^3$."
   ]
  },
  {
   "cell_type": "code",
   "execution_count": 6,
   "metadata": {},
   "outputs": [
    {
     "name": "stdout",
     "output_type": "stream",
     "text": [
      "25\n",
      "125\n"
     ]
    }
   ],
   "source": [
    "x = 5\n",
    "print(x**2)\n",
    "print(x**3)"
   ]
  },
  {
   "cell_type": "markdown",
   "metadata": {},
   "source": [
    "**5.2.** Defina um ângulo ($0 \\leq \\theta \\leq 2\\pi$) e atribua-o a uma variável $angle$. Compute os valores de $sin(\\theta)$ e $cos(\\theta)$ em radianos."
   ]
  },
  {
   "cell_type": "code",
   "execution_count": 7,
   "metadata": {},
   "outputs": [
    {
     "name": "stdout",
     "output_type": "stream",
     "text": [
      "sin: 0.973\n",
      "cos: 0.229\n"
     ]
    }
   ],
   "source": [
    "angle = 1.34\n",
    "print('sin: %.3f' % np.sin(angle))\n",
    "print('cos: %.3f' % np.cos(angle))"
   ]
  },
  {
   "cell_type": "markdown",
   "metadata": {},
   "source": [
    "**5.3.** Utilizando a função `linspace()`, crie um vetor $X$ com 500 elementos linearmente espaçados entre 0 e 10. Imprima o valor do 87º elemento do vetor $X$."
   ]
  },
  {
   "cell_type": "code",
   "execution_count": 8,
   "metadata": {},
   "outputs": [
    {
     "name": "stdout",
     "output_type": "stream",
     "text": [
      "1.72344689379\n"
     ]
    }
   ],
   "source": [
    "X = np.linspace(0, 10, 500)\n",
    "print(X[86])"
   ]
  },
  {
   "cell_type": "markdown",
   "metadata": {},
   "source": [
    "**5.4.** Crie um vetor $V$ com 50 elementos ${V_0, V_1, ..., V_{49}}$. Onde cada elemento $V_i = i^2$."
   ]
  },
  {
   "cell_type": "code",
   "execution_count": 9,
   "metadata": {},
   "outputs": [
    {
     "name": "stdout",
     "output_type": "stream",
     "text": [
      "[  0.00000000e+00   1.00000000e+00   4.00000000e+00   9.00000000e+00\n",
      "   1.60000000e+01   2.50000000e+01   3.60000000e+01   4.90000000e+01\n",
      "   6.40000000e+01   8.10000000e+01   1.00000000e+02   1.21000000e+02\n",
      "   1.44000000e+02   1.69000000e+02   1.96000000e+02   2.25000000e+02\n",
      "   2.56000000e+02   2.89000000e+02   3.24000000e+02   3.61000000e+02\n",
      "   4.00000000e+02   4.41000000e+02   4.84000000e+02   5.29000000e+02\n",
      "   5.76000000e+02   6.25000000e+02   6.76000000e+02   7.29000000e+02\n",
      "   7.84000000e+02   8.41000000e+02   9.00000000e+02   9.61000000e+02\n",
      "   1.02400000e+03   1.08900000e+03   1.15600000e+03   1.22500000e+03\n",
      "   1.29600000e+03   1.36900000e+03   1.44400000e+03   1.52100000e+03\n",
      "   1.60000000e+03   1.68100000e+03   1.76400000e+03   1.84900000e+03\n",
      "   1.93600000e+03   2.02500000e+03   2.11600000e+03   2.20900000e+03\n",
      "   2.30400000e+03   2.40100000e+03]\n"
     ]
    }
   ],
   "source": [
    "v = np.zeros(50)\n",
    "for i in range(50):\n",
    "    v[i] = i**2\n",
    "print(v)"
   ]
  },
  {
   "cell_type": "markdown",
   "metadata": {},
   "source": [
    "**5.5.** Defina o seguinte vetor e a seguinte matriz:  \n",
    "`V = np.array([5., 8., 13.])`  \n",
    "`M = np.array([[1., 3., 2.], [10., 5., 8.], [13., 21., 34.]])`  \n",
    "Em seguida, mostre os seus respectivos formatos com a função `shape()`."
   ]
  },
  {
   "cell_type": "code",
   "execution_count": 10,
   "metadata": {},
   "outputs": [
    {
     "name": "stdout",
     "output_type": "stream",
     "text": [
      "(3,)\n",
      "(3, 3)\n"
     ]
    }
   ],
   "source": [
    "V = np.array([5., 8., 13.])\n",
    "M = np.array([[1., 3., 2.], [10., 5., 8.], [13., 21., 34.]])\n",
    "print(V.shape)\n",
    "print(M.shape)"
   ]
  },
  {
   "cell_type": "markdown",
   "metadata": {},
   "source": [
    "**5.6.** Multiplique o vetor `V` por uma constante e o imprima utilizando a função `print()`."
   ]
  },
  {
   "cell_type": "code",
   "execution_count": 11,
   "metadata": {},
   "outputs": [
    {
     "name": "stdout",
     "output_type": "stream",
     "text": [
      "[ 15.  24.  39.]\n"
     ]
    }
   ],
   "source": [
    "V *= 3\n",
    "print(V)"
   ]
  },
  {
   "cell_type": "markdown",
   "metadata": {},
   "source": [
    "**5.7.** Crie um segundo vetor $U$, tal que: $U_i = cos(V_i)$."
   ]
  },
  {
   "cell_type": "code",
   "execution_count": 12,
   "metadata": {},
   "outputs": [
    {
     "name": "stdout",
     "output_type": "stream",
     "text": [
      "[-0.75968791  0.42417901  0.26664293]\n"
     ]
    }
   ],
   "source": [
    "U = np.cos(V)\n",
    "print(U)"
   ]
  },
  {
   "cell_type": "markdown",
   "metadata": {},
   "source": [
    "**5.8.** Crie um terceiro vetor $R$, tal que $R$ seja alguma combinação linear dos vetores $U$ e $V$. Em seguida, imprima o vetor $R$."
   ]
  },
  {
   "cell_type": "code",
   "execution_count": 13,
   "metadata": {},
   "outputs": [
    {
     "name": "stdout",
     "output_type": "stream",
     "text": [
      "[ 12.72093626  25.27253702  39.7999288 ]\n"
     ]
    }
   ],
   "source": [
    "R = V + 3*U\n",
    "print(R)"
   ]
  },
  {
   "cell_type": "markdown",
   "metadata": {},
   "source": [
    "**5.9** Utilize a função `dot()` para realizar a multiplicação matricial entre a matriz $M$ e o vetor $V$ e guarde o resultado no vetor $U$."
   ]
  },
  {
   "cell_type": "code",
   "execution_count": 14,
   "metadata": {},
   "outputs": [
    {
     "name": "stdout",
     "output_type": "stream",
     "text": [
      "[  165.   582.  2025.]\n"
     ]
    }
   ],
   "source": [
    "U = np.dot(M, V)\n",
    "print(U)"
   ]
  },
  {
   "cell_type": "markdown",
   "metadata": {},
   "source": [
    "**5.10** Compute e imprima os valores da transposta, inversa e determinante da matriz $M$."
   ]
  },
  {
   "cell_type": "code",
   "execution_count": 15,
   "metadata": {},
   "outputs": [
    {
     "name": "stdout",
     "output_type": "stream",
     "text": [
      "[[  1.  10.  13.]\n",
      " [  3.   5.  21.]\n",
      " [  2.   8.  34.]]\n",
      "[[-0.00480769  0.14423077 -0.03365385]\n",
      " [ 0.56730769 -0.01923077 -0.02884615]\n",
      " [-0.34855769 -0.04326923  0.06009615]]\n",
      "-416.0\n"
     ]
    }
   ],
   "source": [
    "print(M.T)\n",
    "print(np.linalg.inv(M))\n",
    "print(np.linalg.det(M))"
   ]
  },
  {
   "cell_type": "markdown",
   "metadata": {},
   "source": [
    "**5.11.** Encontre o menor elemento da matriz $M$."
   ]
  },
  {
   "cell_type": "code",
   "execution_count": 16,
   "metadata": {},
   "outputs": [
    {
     "name": "stdout",
     "output_type": "stream",
     "text": [
      "34.0\n"
     ]
    }
   ],
   "source": [
    "print(np.max(M))"
   ]
  },
  {
   "cell_type": "markdown",
   "metadata": {},
   "source": [
    "**5.12.** A função `np.random.random` pode ser usada para criar vetores e matrizes de números aleatórios. Utilize tal função para criar uma matriz 5x5."
   ]
  },
  {
   "cell_type": "code",
   "execution_count": 17,
   "metadata": {},
   "outputs": [
    {
     "name": "stdout",
     "output_type": "stream",
     "text": [
      "[[ 0.65347867  0.13483219  0.3696912   0.70137465  0.3456009 ]\n",
      " [ 0.22400754  0.22521748  0.48773902  0.56868562  0.40965724]\n",
      " [ 0.87216744  0.70139239  0.30475001  0.99945142  0.62434212]\n",
      " [ 0.10486999  0.47865595  0.0096317   0.73450962  0.86416711]\n",
      " [ 0.33571179  0.50290594  0.48873853  0.83821384  0.0670249 ]]\n"
     ]
    }
   ],
   "source": [
    "print(np.random.rand(5, 5))"
   ]
  },
  {
   "cell_type": "markdown",
   "metadata": {},
   "source": [
    "---\n",
    "\n",
    "## Questão 06\n",
    "\n",
    "Iniciando a utilização do módulo _matplotlib_. Resolva os exercícios abaixo."
   ]
  },
  {
   "cell_type": "markdown",
   "metadata": {},
   "source": [
    "**6.1.** Redefina a variável $X$ da questão 5.3 e confeccione o gráfico $Y = sin(X)$."
   ]
  },
  {
   "cell_type": "code",
   "execution_count": 18,
   "metadata": {},
   "outputs": [
    {
     "data": {
      "image/png": "[encoded data removed]",
      "text/plain": [
       "<matplotlib.figure.Figure at 0x107175d68>"
      ]
     },
     "metadata": {},
     "output_type": "display_data"
    }
   ],
   "source": [
    "X = np.linspace(0, 10, 500)\n",
    "plt.plot(X, np.sin(X))\n",
    "plt.grid(True)"
   ]
  },
  {
   "cell_type": "markdown",
   "metadata": {},
   "source": [
    "**6.2.** Utilize a função `plt.plot()` para confeccionar o gráfico com as funções $f(x) = xe^{-x}$ e $g(x) = sin(\\pi x)e^{-x}$ no intervalo $[0, 10]$. Dê um título à imagem, legendas às funções $f$ e $g$ e rótulos aos eixos $x$ e $y$."
   ]
  },
  {
   "cell_type": "code",
   "execution_count": 19,
   "metadata": {},
   "outputs": [
    {
     "data": {
      "text/plain": [
       "<matplotlib.text.Text at 0x10c11b7f0>"
      ]
     },
     "execution_count": 19,
     "metadata": {},
     "output_type": "execute_result"
    },
    {
     "data": {
      "image/png": "[encoded data removed]",
      "text/plain": [
       "<matplotlib.figure.Figure at 0x1071f2358>"
      ]
     },
     "metadata": {},
     "output_type": "display_data"
    }
   ],
   "source": [
    "x = np.linspace(0, 10, 1000)\n",
    "f = x * np.e**-x\n",
    "g = np.sin(np.pi * x) * np.e**-x\n",
    "plt.plot(x, f)\n",
    "plt.plot(x, g)\n",
    "plt.legend(['f(x)', 'g(x)'])\n",
    "plt.xlabel('x')\n",
    "plt.ylabel('y')\n",
    "plt.grid(True)\n",
    "plt.title('My first plot')"
   ]
  },
  {
   "cell_type": "markdown",
   "metadata": {},
   "source": [
    "**6.3.** Utilize a função `plt.subplot()` para confeccionar dois gráficos, um ao lado do outro. O primeiro gráfico deve conter a função $f(x) = \\frac{sin(x)}{x}$, e o segundo, a função $g(x) = \\frac{cos(x)}{x}$, ambos no intervalo $[1, 5]$. Dê um título às imagens, legendas às funções $f$ e $g$ e rótulos aos eixos $x$ e $y$."
   ]
  },
  {
   "cell_type": "code",
   "execution_count": null,
   "metadata": {
    "collapsed": true
   },
   "outputs": [],
   "source": []
  }
 ],
 "metadata": {
  "kernelspec": {
   "display_name": "Python 3",
   "language": "python",
   "name": "python3"
  },
  "language_info": {
   "codemirror_mode": {
    "name": "ipython",
    "version": 3
   },
   "file_extension": ".py",
   "mimetype": "text/x-python",
   "name": "python",
   "nbconvert_exporter": "python",
   "pygments_lexer": "ipython3",
   "version": "3.6.1"
  }
 },
 "nbformat": 4,
 "nbformat_minor": 2
}
