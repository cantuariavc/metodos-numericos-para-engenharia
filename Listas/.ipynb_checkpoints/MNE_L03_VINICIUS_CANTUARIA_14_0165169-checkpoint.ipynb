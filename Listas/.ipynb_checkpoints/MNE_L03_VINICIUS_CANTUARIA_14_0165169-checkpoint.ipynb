{
 "cells": [
  {
   "cell_type": "markdown",
   "metadata": {},
   "source": [
    "# Lista de Exercícios 3\n",
    "\n",
    "Métodos Numéricos para Engenharia - Turma C  \n",
    "Nome: Vinícius de Castro Cantuária   \n",
    "Matrícula: 14/0165169"
   ]
  },
  {
   "cell_type": "markdown",
   "metadata": {},
   "source": [
    "Observações:\n",
    "\n",
    "0. A lista de exercícios deve ser entregue no moodle da disciplina.\n",
    "0. A lista de exercícios deve ser respondida neste único arquivo (.ipynb). Responda a cada questão na célula imediatamente abaixo do seu enunciado.\n",
    "0. Não se esqueça de alterar o nome do arquivo e o cabeçalho acima, colocando seu nome e matrícula.\n",
    "0. A lista é uma atividade avaliativa e individual. Não será tolerado qualquer tipo de plágio."
   ]
  },
  {
   "cell_type": "code",
   "execution_count": 8,
   "metadata": {},
   "outputs": [
    {
     "name": "stdout",
     "output_type": "stream",
     "text": [
      "Populating the interactive namespace from numpy and matplotlib\n"
     ]
    }
   ],
   "source": [
    "# Deixe-me incluir o conjunto de módulos do Python científico para você.\n",
    "%pylab inline"
   ]
  },
  {
   "cell_type": "markdown",
   "metadata": {},
   "source": [
    "---\n",
    "\n",
    "## Questão 01\n",
    "\n",
    "O Método da Interpolação Constante é o método mais simples de interpolação. Neste método, o valor estimado da função $f(x)$ para um valor de $x$ arbitrário é exatamente o valor de $f(x)$ no ponto conhecido mais próximo.\n",
    "\n",
    "Conseguimos a seguinte tabela de uma certa função $f$:\n",
    "\n",
    "|    $x_i$   | $0$ |  $2$ | $4$ | $6$ | $8$ |\n",
    "|:----------:|:---:|:----:|:---:|:---:|:---:|\n",
    "| $f$($x_i$) | $6$ | $2$ | $4$ | $8$ | $5$ |\n",
    "\n",
    "Encontre o valor da função $f$ para um valor de $x$ arbitrário utilizando o Método da Interpolação Constante.\n",
    "\n",
    "### Entrada\n",
    "\n",
    "Um valor de ponto flutuante $0 \\leq X \\leq 8$.\n",
    "\n",
    "### Saída\n",
    "\n",
    "Um valor de ponto flutuante $y$ com seis casas decimais de precisão indicando o valor de $f(X)$ encontrado.\n",
    "\n",
    "#### Entrada de Teste\n",
    "1.6\n",
    "\n",
    "#### Saída de Teste\n",
    "2.000000"
   ]
  },
  {
   "cell_type": "code",
   "execution_count": 1,
   "metadata": {},
   "outputs": [
    {
     "name": "stdout",
     "output_type": "stream",
     "text": [
      "1.6\n",
      "2.000000\n"
     ]
    }
   ],
   "source": [
    "X = [0, 2, 4, 6, 8]\n",
    "Y = [6, 2, 4, 8, 5]\n",
    "\n",
    "x0 = float(input())\n",
    "\n",
    "i = 0\n",
    "while i < len(X)-1 and abs(x0 - X[i]) > abs(x0 - X[i+1]):\n",
    "    i += 1\n",
    "\n",
    "print('%.6f' % Y[i])"
   ]
  },
  {
   "cell_type": "markdown",
   "metadata": {
    "collapsed": true
   },
   "source": [
    "---\n",
    "\n",
    "## Questão 02\n",
    "\n",
    "O Método da Interpolação Linear consiste em conectar pontos conhecidos consecutivos por um segmento de reta. Neste caso, o interpolante é dado por um conjunto de segmentos de reta.\n",
    "\n",
    "Dados os seguinte pontos conhecidos de uma função $y = f(x)$:\n",
    "\n",
    "| $x$ | $0$ | $2$ | $4$ | $6$ | $8$ | $10$ |\n",
    "|:---:|:---:|:---:|:---:|:---:|:---:|:---:|\n",
    "| $y$ | $2.6$ | $3.5$ | $1.1$ | $-0.8$ | $0.9$ | $3.3$ |\n",
    "\n",
    "Encontre o valor da função $f$ para um valor de $x$ arbitrário utilizando o Método da Interpolação Linear.\n",
    "\n",
    "### Entrada\n",
    "\n",
    "Um valor de ponto flutuante $0 \\leq X \\leq 10$.\n",
    "\n",
    "### Saída\n",
    "\n",
    "Um valor de ponto flutuante $y$ com seis casas decimais de precisão indicando o valor de $f(X)$ encontrado.\n",
    "\n",
    "#### Entrada de Teste\n",
    "0.5\n",
    "\n",
    "#### Saída de Teste\n",
    "2.825000"
   ]
  },
  {
   "cell_type": "code",
   "execution_count": 2,
   "metadata": {},
   "outputs": [
    {
     "name": "stdout",
     "output_type": "stream",
     "text": [
      "0.5\n",
      "2.825000\n"
     ]
    }
   ],
   "source": [
    "X = [0, 2, 4, 6, 8, 10]\n",
    "Y = [2.6, 3.5, 1.1, -0.08, 0.9, 3.3]\n",
    "\n",
    "x0 = float(input())\n",
    "\n",
    "i = 0\n",
    "while i < len(X)-2 and x0 > X[i+1]:\n",
    "    i += 1\n",
    "\n",
    "y0 = Y[i] + (x0 - X[i]) * (Y[i+1] - Y[i]) / (X[i+1] - X[i])\n",
    "\n",
    "print('%.6f' % y0)"
   ]
  },
  {
   "cell_type": "markdown",
   "metadata": {},
   "source": [
    "---\n",
    "\n",
    "## Questão 03\n",
    "\n",
    "O Método da Interpolação Polinomial consiste em encontrar um polinômio de ordem menor ou igual a $N$ que passe por todos os $N+1$ pontos conhecidos.\n",
    "\n",
    "Dados cinco pontos conhecidos de uma função $f(x)$, encontre os coeficientes do seu polinômio interpolante.\n",
    "\n",
    "### Entrada\n",
    "\n",
    "Um número inteiro positivo $N$ ($1 \\leq N \\leq 100$), seguido de $N$ pares de valores de ponto flutuante $(x_i, y_i)$, onde $-10^4 \\leq x_i, y_i \\leq 10^4$.\n",
    "\n",
    "### Saída\n",
    "\n",
    "Os $N$ coeficientes do polinômio interpolante $p(x)$ dado abaixo, com seis casas de precisão.\n",
    "\n",
    "$$ p(x) = a_{N-1}x^{N-1} + a_{N-2}x^{N-2} + ... + a_1x + a_0 $$\n",
    "\n",
    "#### Entrada de Teste\n",
    "10  \n",
    "-2.0 4.0  \n",
    "-1.0 1.0  \n",
    "0.0 0.0  \n",
    "1.0 1.0  \n",
    "2.0 4.0  \n",
    "3.0 9.0  \n",
    "4.0 16.0  \n",
    "5.0 22.0  \n",
    "6.0 18.0  \n",
    "7.0 1.0\n",
    "\n",
    "#### Saída de Teste\n",
    "+0.000017  \n",
    "-0.000149  \n",
    "-0.000496  \n",
    "+0.006250  \n",
    "-0.007986  \n",
    "-0.028125  \n",
    "+0.048942  \n",
    "+1.022024  \n",
    "-0.040476  \n",
    "+0.000000"
   ]
  },
  {
   "cell_type": "code",
   "execution_count": 9,
   "metadata": {},
   "outputs": [
    {
     "name": "stdout",
     "output_type": "stream",
     "text": [
      "10\n",
      "-2.0 4.0\n",
      "-1.0 1.0\n",
      "0.0 0.0\n",
      "1.0 1.0\n",
      "2.0 4.0\n",
      "3.0 9.0\n",
      "4.0 16.0\n",
      "5.0 22.0\n",
      "6.0 18.0\n",
      "7.0 1.0\n",
      "0.000017\n",
      "-0.000149\n",
      "-0.000496\n",
      "0.006250\n",
      "-0.007986\n",
      "-0.028125\n",
      "0.048942\n",
      "1.022024\n",
      "-0.040476\n",
      "0.000000\n"
     ]
    }
   ],
   "source": [
    "N = int(input())\n",
    "\n",
    "X, Y = np.zeros(N), np.zeros(N)\n",
    "for i in range(N):\n",
    "    X[i], Y[i] = [float(x) for x in input().split()]\n",
    "\n",
    "A = np.zeros((N,N))\n",
    "for i in range(N):\n",
    "    for j in range(N):\n",
    "        A[i,j] = X[i]**(N-1 - j)\n",
    "\n",
    "coefs = np.linalg.solve(A, Y)\n",
    "\n",
    "for coef in coefs:\n",
    "    print('%.6f' % coef)"
   ]
  },
  {
   "cell_type": "markdown",
   "metadata": {},
   "source": [
    "---\n",
    "\n",
    "## Questão 04\n",
    "\n",
    "Dados $N$ pontos $(x_i,y_i)$ conhecidos de uma função $f(x)$, encontre os valores da função $f(x)$ para os valores de $x$ fornecidos. Utilize o Método da Interpolação Polinomial.\n",
    "\n",
    "### Entrada\n",
    "\n",
    "A primeira linha da entrada consiste de um valor inteiro $2 \\leq N \\leq 100$, indicando o número de pontos conhecidos da função $f(x)$. As próximas $N$ linhas consistem de dois valores de ponto flutuante cada, indicando os valores $(x_i,y_i)$ do i-ésimo ponto. A próxima linha consiste de um valor inteiro $1 \\leq M \\leq 1000$, indicando a quantidade de valores de $x$ para os quais queremos saber o valor de $f(x)$.\n",
    "\n",
    "### Saída\n",
    "\n",
    "A saída deve conter $M$ linhas, cada uma com a seguinte mensagem: \"$f(x_a) = y_a$\". Onde $x_a$ é o valor de $x$ dado e $y_a$ é o valor encontrado para $f(x_a)$. Os valores de $x_a$ e $y_a$ devem ser impressos com 6 casas decimais de precisão.\n",
    "\n",
    "#### Entrada de Teste\n",
    "5  \n",
    "0.0 0.0  \n",
    "1.0 1.0  \n",
    "2.0 4.0  \n",
    "3.0 9.0  \n",
    "4.0 16.0  \n",
    "2  \n",
    "1.5  \n",
    "2.5\n",
    "\n",
    "#### Saída de Teste\n",
    "$\\texttt{f(1.500000) = 2.250000}$  \n",
    "$\\texttt{f(2.500000) = 6.250000}$"
   ]
  },
  {
   "cell_type": "code",
   "execution_count": 10,
   "metadata": {},
   "outputs": [
    {
     "name": "stdout",
     "output_type": "stream",
     "text": [
      "5\n",
      "0.0 0.0\n",
      "1.0 1.0\n",
      "2.0 4.0\n",
      "3.0 9.0\n",
      "4.0 16.0\n",
      "2\n",
      "1.5\n",
      "f(1.500000) = 2.250000\n",
      "2.5\n",
      "f(2.500000) = 6.250000\n"
     ]
    }
   ],
   "source": [
    "N = int(input())\n",
    "\n",
    "X, Y = np.zeros(N), np.zeros(N)\n",
    "for i in range(N):\n",
    "    X[i], Y[i] = [float(x) for x in input().split()]\n",
    "\n",
    "A = np.zeros((N,N))\n",
    "for i in range(N):\n",
    "    for j in range(N):\n",
    "        A[i,j] = X[i]**(N-1 - j)\n",
    "\n",
    "coefs = np.linalg.solve(A, Y)\n",
    "\n",
    "M = int(input())\n",
    "\n",
    "def poly(C, X):\n",
    "    Y = 0\n",
    "    for i in range(len(C)):\n",
    "        Y += C[i] * X**(len(C)-1 - i)\n",
    "    return Y\n",
    "\n",
    "Xa, Ya = np.zeros(M), np.zeros(M)\n",
    "for i in range(M):\n",
    "    x = float(input())\n",
    "    Xa[i], Ya[i] = x, poly(coefs, x)\n",
    "    print('f(%.6f) = %.6f' % (Xa[i], Ya[i]))"
   ]
  },
  {
   "cell_type": "markdown",
   "metadata": {},
   "source": [
    "---\n",
    "\n",
    "## Questão 05\n",
    "\n",
    "O Método dos Mínimos Quadrados (MMQ) consiste em ajustar uma curva a um conjunto de pontos de forma a minimizar o Erro Quadrático (EQ), ou seja, minimizar a soma dos quadrados das distâncias entre a curva e os pontos.\n",
    "\n",
    "Encontre os coeficientes $A$ e $B$ ao ajustar uma reta a um conjunto de $N$ pontos $(x,y)$, utilizando o MMQ.\n",
    "\n",
    "### Entrada\n",
    "\n",
    "A primeira linha da entrada consiste de um valor inteiro $2 \\leq N \\leq 1000$, indicando o número de pontos conhecidos da função $f(x)$. As próximas $N$ linhas consistem de dois valores de ponto flutuante cada, indicando os valores $(x_i,y_i)$ do i-ésimo ponto.\n",
    "\n",
    "### Saída\n",
    "\n",
    "A saída deve conter a seguinte mensagem: \"$Y = A*X +B$\". Onde $A$ e $B$ são os coeficientes encontrados, impressos com seis casa decimais de precisão.\n",
    "\n",
    "#### Entrada de Teste\n",
    "5  \n",
    "0.0 -1.0  \n",
    "2.0 2.0  \n",
    "4.0 5.0  \n",
    "6.0 7.0  \n",
    "8.0 11.0\n",
    "\n",
    "#### Saída de Teste\n",
    "$\\texttt{Y = 1.450000*X -1.000000}$"
   ]
  },
  {
   "cell_type": "code",
   "execution_count": 12,
   "metadata": {},
   "outputs": [
    {
     "name": "stdout",
     "output_type": "stream",
     "text": [
      "5\n",
      "0.0 -1.0\n",
      "2.0 2.0\n",
      "4.0 5.0\n",
      "6.0 7.0\n",
      "8.0 11.0\n",
      "Y = 1.450000 * X + -1.000000\n"
     ]
    }
   ],
   "source": [
    "N = int(input())\n",
    "\n",
    "X, Y = np.zeros(N), np.zeros(N)\n",
    "for i in range(N):\n",
    "    X[i], Y[i] = [float(x) for x in input().split()]\n",
    "\n",
    "A = np.zeros((2,2))\n",
    "A[0,0], A[0,1] = np.sum(X**2), np.sum(X)\n",
    "A[1,0], A[1,1] = np.sum(X)   , N\n",
    "b = [np.sum(X*Y), np.sum(Y)]\n",
    "\n",
    "m, c = np.linalg.solve(A, b)\n",
    "\n",
    "print('Y = %.6f * X + %.6f' % (m, c))"
   ]
  },
  {
   "cell_type": "markdown",
   "metadata": {},
   "source": [
    "---\n",
    "\n",
    "## Questão 06\n",
    "\n",
    "Utilizando o MMQ, encontre os coeficientes $A$, $B$ e $C$ ao ajustar uma parábola a um conjunto de $N$ pontos $(x,y)$.\n",
    "\n",
    "### Entrada\n",
    "\n",
    "A primeira linha da entrada consiste de um valor inteiro $3 \\leq N \\leq 1000$, indicando o número de pontos conhecidos da função $f(x)$. As próximas $N$ linhas consistem de dois valores de ponto flutuante cada, indicando os valores $(x_i,y_i)$ do i-ésimo ponto.\n",
    "\n",
    "### Saída\n",
    "\n",
    "A saída deve conter a seguinte mensagem: \"$Y = A * X$^$2 + B * X + C$\". Onde $A$, $B$ e C são os coeficientes encontrados, impressos com seis casa decimais de precisão.\n",
    "\n",
    "#### Entrada de Teste\n",
    "5  \n",
    "0.0 0.0  \n",
    "1.0 3.0  \n",
    "2.0 2.0  \n",
    "3.0 5.0  \n",
    "4.0 4.0\n",
    "\n",
    "#### Saída de Teste\n",
    "$\\texttt{Y = -0.285714 * X^2 + 2.142857 * X + 0.228571}$"
   ]
  },
  {
   "cell_type": "code",
   "execution_count": 14,
   "metadata": {},
   "outputs": [
    {
     "name": "stdout",
     "output_type": "stream",
     "text": [
      "5\n",
      "0.0 0.0\n",
      "1.0 3.0\n",
      "2.0 2.0\n",
      "3.0 5.0\n",
      "4.0 4.0\n",
      "Y = -0.285714 * X^2 + 2.142857 * X + 0.228571\n"
     ]
    }
   ],
   "source": [
    "def square(x):\n",
    "    return x**2\n",
    "def line(x):\n",
    "    return x\n",
    "def const(x):\n",
    "    return 1\n",
    "F = [square, line, const]\n",
    "\n",
    "N = int(input())\n",
    "\n",
    "X, Y = np.zeros(N), np.zeros(N)\n",
    "for i in range(N):\n",
    "    X[i], Y[i] = [float(x) for x in input().split()]\n",
    "\n",
    "A = np.zeros((N, len(F)))\n",
    "for i in range(N):\n",
    "    for j in range(len(F)):\n",
    "        A[i,j] = F[j](X[i])\n",
    "left, right = A.T.dot(A), A.T.dot(Y)\n",
    "\n",
    "a, b, c = np.linalg.solve(left, right)\n",
    "\n",
    "print('Y = %.6f * X^2 + %.6f * X + %.6f' % (a, b, c))"
   ]
  },
  {
   "cell_type": "markdown",
   "metadata": {},
   "source": [
    "---\n",
    "\n",
    "## Questão 07\n",
    "\n",
    "Encontre o EQ mínimo ao ajustar uma reta a um conjunto de $N$ pontos $(x,y)$, utilizando o MMQ.\n",
    "\n",
    "### Entrada\n",
    "\n",
    "A primeira linha da entrada consiste de um valor inteiro $2 \\leq N \\leq 100$, indicando o número de pontos conhecidos da função $f(x)$. As próximas $N$ linhas consistem de dois valores de ponto flutuante cada, indicando os valores $(x_i,y_i)$ do i-ésimo ponto.\n",
    "\n",
    "### Saída\n",
    "\n",
    "Um único valor de ponto flutuante com seis casas decimais de precisão, indicando o EQ mínimo para a aproximação.\n",
    "\n",
    "#### Entrada de Teste\n",
    "5  \n",
    "0.0 0.0  \n",
    "1.0 4.0  \n",
    "2.0 1.0  \n",
    "3.0 6.0  \n",
    "4.0 3.0\n",
    "\n",
    "#### Saída de Teste\n",
    "8.800000"
   ]
  },
  {
   "cell_type": "code",
   "execution_count": 15,
   "metadata": {},
   "outputs": [
    {
     "name": "stdout",
     "output_type": "stream",
     "text": [
      "5\n",
      "0.0 0.0\n",
      "1.0 4.0\n",
      "2.0 1.0\n",
      "3.0 6.0 \n",
      "4.0 3.0\n",
      "8.800000\n"
     ]
    }
   ],
   "source": [
    "N = int(input())\n",
    "\n",
    "X, Y = np.zeros(N), np.zeros(N)\n",
    "for i in range(N):\n",
    "    X[i], Y[i] = [float(x) for x in input().split()]\n",
    "\n",
    "A = np.zeros((2,2))\n",
    "A[0,0], A[0,1] = np.sum(X**2), np.sum(X)\n",
    "A[1,0], A[1,1] = np.sum(X)   , N\n",
    "b = [np.sum(X*Y), np.sum(Y)]\n",
    "\n",
    "m, c = np.linalg.solve(A, b)\n",
    "\n",
    "ssr = 0\n",
    "for i in range(N):\n",
    "    ssr += abs(Y[i] - (m*X[i] + c))\n",
    "\n",
    "print('%.6f' % ssr)"
   ]
  },
  {
   "cell_type": "markdown",
   "metadata": {},
   "source": [
    "---\n",
    "\n",
    "## Questão 08\n",
    "\n",
    "Utilize o MMQ para encontrar a função que melhor se ajusta a um conjunto de $N$ pontos $(x,y)$, ou seja, que possua o menor EQ. As opções de funções são:\n",
    "\n",
    "$$\n",
    "\\begin{cases}\n",
    "f(x) = C_0 + C_1x \\\\\n",
    "g(x) = C_0sin(x) + C_1cos(x) \\\\\n",
    "h(x) = C_0ln(x+1) + C_1e^{2x}\n",
    "\\end{cases}\n",
    "$$\n",
    "\n",
    "### Entrada\n",
    "\n",
    "A primeira linha da entrada consiste de um valor inteiro $3 \\leq N \\leq 1000$, indicando o número de pontos conhecidos da função $f(x)$. As próximas $N$ linhas consistem de dois valores de ponto flutuante cada, indicando os valores $(x_i,y_i)$ do i-ésimo ponto.\n",
    "\n",
    "### Saída\n",
    "\n",
    "A saída deve conter três linhas. A primeira linha deve conter a mensagem \"$EQ(FUNCAO) = ERRO$\", onde $FUNCAO$ deve ser $f$, $g$ ou $h$, indicando a função de menor EQ e $ERRO$ deve ser o valor do EQ mínimo encontrado. As segunda e terceira linhas devem conter os valores de $C_0$ e $C_1$, conforme mostrado na saída de teste. Todos os valores devem ter seis casas decimais de precisão.\n",
    "\n",
    "#### Entrada de Teste\n",
    "5  \n",
    "0.0 0.0  \n",
    "1.0 4.0  \n",
    "2.0 1.0  \n",
    "3.0 6.0  \n",
    "4.0 3.0\n",
    "\n",
    "#### Saída de Teste\n",
    "$\\texttt{EQ(h) = 12.549857}$  \n",
    "$\\texttt{C0 = 3.442127}$  \n",
    "$\\texttt{C1 = -0.000797}$"
   ]
  },
  {
   "cell_type": "code",
   "execution_count": 17,
   "metadata": {},
   "outputs": [
    {
     "name": "stdout",
     "output_type": "stream",
     "text": [
      "5\n",
      "0.0 0.0 \n",
      "1.0 4.0 \n",
      "2.0 1.0 \n",
      "3.0 6.0 \n",
      "4.0 3.0\n"
     ]
    },
    {
     "ename": "NameError",
     "evalue": "name 'ssrh' is not defined",
     "output_type": "error",
     "traceback": [
      "\u001b[0;31m---------------------------------------------------------------------------\u001b[0m",
      "\u001b[0;31mNameError\u001b[0m                                 Traceback (most recent call last)",
      "\u001b[0;32m<ipython-input-17-8dbc97529570>\u001b[0m in \u001b[0;36m<module>\u001b[0;34m()\u001b[0m\n\u001b[1;32m     43\u001b[0m         \u001b[0mprint\u001b[0m\u001b[0;34m(\u001b[0m\u001b[0;34m'C%d = %.6f'\u001b[0m \u001b[0;34m%\u001b[0m \u001b[0;34m(\u001b[0m\u001b[0mi\u001b[0m\u001b[0;34m,\u001b[0m \u001b[0mC\u001b[0m\u001b[0;34m[\u001b[0m\u001b[0mi\u001b[0m\u001b[0;34m]\u001b[0m\u001b[0;34m)\u001b[0m\u001b[0;34m)\u001b[0m\u001b[0;34m\u001b[0m\u001b[0m\n\u001b[1;32m     44\u001b[0m \u001b[0;34m\u001b[0m\u001b[0m\n\u001b[0;32m---> 45\u001b[0;31m \u001b[0;32mif\u001b[0m \u001b[0mssrf\u001b[0m \u001b[0;34m<=\u001b[0m \u001b[0mssrg\u001b[0m \u001b[0;32mand\u001b[0m \u001b[0mssrf\u001b[0m \u001b[0;34m<=\u001b[0m \u001b[0mssrh\u001b[0m\u001b[0;34m:\u001b[0m\u001b[0;34m\u001b[0m\u001b[0m\n\u001b[0m\u001b[1;32m     46\u001b[0m     \u001b[0mresults\u001b[0m\u001b[0;34m(\u001b[0m\u001b[0;34m'f'\u001b[0m\u001b[0;34m,\u001b[0m \u001b[0mssrf\u001b[0m\u001b[0;34m,\u001b[0m \u001b[0mCf\u001b[0m\u001b[0;34m)\u001b[0m\u001b[0;34m\u001b[0m\u001b[0m\n\u001b[1;32m     47\u001b[0m \u001b[0;32melif\u001b[0m \u001b[0mssrg\u001b[0m \u001b[0;34m<=\u001b[0m \u001b[0mssrf\u001b[0m \u001b[0;32mand\u001b[0m \u001b[0mssrg\u001b[0m \u001b[0;34m<=\u001b[0m \u001b[0mssrh\u001b[0m\u001b[0;34m:\u001b[0m\u001b[0;34m\u001b[0m\u001b[0m\n",
      "\u001b[0;31mNameError\u001b[0m: name 'ssrh' is not defined"
     ]
    }
   ],
   "source": [
    "def const(x):\n",
    "    return 1\n",
    "def f(x):\n",
    "    return x\n",
    "F = [const, f]\n",
    "G = [np.sin, np.cos]\n",
    "# H = []\n",
    "\n",
    "def compute_function(F, C, X):\n",
    "    Y = 0\n",
    "    for i in range(len(F)):\n",
    "        Y += C[i] * F[i](X)\n",
    "    return Y\n",
    "\n",
    "N = int(input())\n",
    "\n",
    "X, Y = np.zeros(N), np.zeros(N)\n",
    "for i in range(N):\n",
    "    X[i], Y[i] = [float(x) for x in input().split()]\n",
    "\n",
    "def mmq(F, X, Y):\n",
    "    A = np.zeros((len(X), len(F)))\n",
    "    for i in range(len(X)):\n",
    "        for j in range(len(F)):\n",
    "            A[i,j] = F[j](X[i])\n",
    "    return np.linalg.solve(A.T.dot(A), A.T.dot(Y))\n",
    "\n",
    "Cf = mmq(F, X, Y)\n",
    "Cg = mmq(G, X, Y)\n",
    "Ch = mmq(H, X, Y)\n",
    "\n",
    "def ssr(F, C, X, Y):\n",
    "    residuals = compute_function(F, C, X) - Y\n",
    "    return np.sum(residuals**2)\n",
    "\n",
    "ssrf = ssr(F, Cf, X, Y)\n",
    "ssrg = ssr(G, Cg, X, Y)\n",
    "ssrh = ssr(H, Ch, X, Y)\n",
    "\n",
    "def results(function, ssr, C):\n",
    "    print('EQ(%s) = %.6f' % (function, ssr))\n",
    "    for i in range(len(C)):\n",
    "        print('C%d = %.6f' % (i, C[i]))\n",
    "\n",
    "if ssrf <= ssrg and ssrf <= ssrh:\n",
    "    results('f', ssrf, Cf)\n",
    "elif ssrg <= ssrf and ssrg <= ssrh:\n",
    "    results('g', ssrg, Cg)\n",
    "else:\n",
    "    results('h', ssrh, Ch)"
   ]
  }
 ],
 "metadata": {
  "kernelspec": {
   "display_name": "Python 3",
   "language": "python",
   "name": "python3"
  },
  "language_info": {
   "codemirror_mode": {
    "name": "ipython",
    "version": 3
   },
   "file_extension": ".py",
   "mimetype": "text/x-python",
   "name": "python",
   "nbconvert_exporter": "python",
   "pygments_lexer": "ipython3",
   "version": "3.6.5"
  }
 },
 "nbformat": 4,
 "nbformat_minor": 2
}
