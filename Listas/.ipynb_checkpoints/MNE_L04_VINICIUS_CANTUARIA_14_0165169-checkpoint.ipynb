{
 "cells": [
  {
   "cell_type": "markdown",
   "metadata": {},
   "source": [
    "# Lista de Exercícios 4\n",
    "\n",
    "Métodos Numéricos para Engenharia - Turma C   \n",
    "Nome: Vinícius de Castro Cantuária   \n",
    "Matrícula: 14/0165169"
   ]
  },
  {
   "cell_type": "markdown",
   "metadata": {},
   "source": [
    "Observações:\n",
    "\n",
    "0. A lista de exercícios deve ser entregue no moodle da disciplina.\n",
    "0. A lista de exercícios deve ser respondida neste único arquivo (.ipynb). Responda a cada questão na célula imediatamente abaixo do seu enunciado.\n",
    "0. Não se esqueça de alterar o nome do arquivo e o cabeçalho acima, colocando seu nome e matrícula.\n",
    "0. A lista é uma atividade avaliativa e individual. Não será tolerado qualquer tipo de plágio."
   ]
  },
  {
   "cell_type": "code",
   "execution_count": 1,
   "metadata": {},
   "outputs": [
    {
     "name": "stdout",
     "output_type": "stream",
     "text": [
      "Populating the interactive namespace from numpy and matplotlib\n"
     ]
    }
   ],
   "source": [
    "# Deixe-me incluir o conjunto de módulos do Python científico para você.\n",
    "%pylab inline"
   ]
  },
  {
   "cell_type": "markdown",
   "metadata": {},
   "source": [
    "---\n",
    "\n",
    "## Questão 01\n",
    "\n",
    "Para implementar o Método da Eliminação de Gauss, um método analítico para solucionar sistemas lineares, é preciso primeiro gerar uma matriz aumentada, resultado da concatenação da matriz de coeficientes com o vetor de termos independentes. Leia um valor `N`, uma matriz de coeficientes e um vetor de termos independentes de um sistema linear de tamanho `N` e imprima a matriz aumentada gerada."
   ]
  },
  {
   "cell_type": "code",
   "execution_count": 2,
   "metadata": {},
   "outputs": [
    {
     "name": "stdout",
     "output_type": "stream",
     "text": [
      "1\n",
      "1\n",
      "1\n",
      "[[1. 1.]]\n"
     ]
    }
   ],
   "source": [
    "N = int(input())\n",
    "\n",
    "A = np.zeros((N,N))\n",
    "for i in range(N):\n",
    "        A[i] = [float(x) for x in input().split()]\n",
    "\n",
    "b = np.array([float(x) for x in input().split()])\n",
    "\n",
    "G = np.hstack((A, b[:, None]))\n",
    "print(G)"
   ]
  },
  {
   "cell_type": "markdown",
   "metadata": {},
   "source": [
    "---\n",
    "\n",
    "## Questão 02\n",
    "\n",
    "O Método da Eliminação de Gauss é um método analítico de resolução de sistemas lineares.\n",
    "\n",
    "Dado o sistema linear $Ax = b$, onde:\n",
    "\n",
    "$$\n",
    "A =\n",
    "\\begin{bmatrix}\n",
    "13 & 7 & 3 \\\\\n",
    "5 & 19 & 1 \\\\\n",
    "2 & 11 & 23\n",
    "\\end{bmatrix},\\ b =\n",
    "\\begin{bmatrix}\n",
    "31 \\\\\n",
    "17 \\\\\n",
    "29\n",
    "\\end{bmatrix}\n",
    "$$\n",
    "\n",
    "Encontre a matriz aumentada e calcule a matriz triangular superior utilizando o pivoteamento parcial do Método da Eliminação de Gauss. Não utilize funções prontas, como \"`np.linalg.solve()`\", para realizar o cálculo. Este exercício não contém entradas.\n",
    "\n",
    "#### Saída Esperada\n",
    "\n",
    "```\n",
    "[[ 13.           7.           3.          31.        ]\n",
    " [  0.          16.30769231  -0.15384615   5.07692308]\n",
    " [  0.           0.          22.63207547  21.14150943]]\n",
    "```"
   ]
  },
  {
   "cell_type": "code",
   "execution_count": 3,
   "metadata": {},
   "outputs": [
    {
     "name": "stdout",
     "output_type": "stream",
     "text": [
      "[[13.          7.          3.         31.        ]\n",
      " [ 0.         16.30769231 -0.15384615  5.07692308]\n",
      " [ 0.          0.         22.63207547 21.14150943]]\n"
     ]
    }
   ],
   "source": [
    "A = np.array([[13,  7,  3],\n",
    "              [ 5, 19,  1],\n",
    "              [ 2, 11, 23.0]])\n",
    "b = np.array([31, 17, 29.0])\n",
    "\n",
    "N = len(b)\n",
    "G = np.hstack((A, b[:, None]))\n",
    "\n",
    "for i in range(N-1):\n",
    "    for j in range(i+1, N):\n",
    "        G[j,:] -= G[j,i] / G[i,i] * G[i,:]\n",
    "\n",
    "print(G)"
   ]
  },
  {
   "cell_type": "markdown",
   "metadata": {
    "collapsed": true
   },
   "source": [
    "---\n",
    "\n",
    "## Questão 03\n",
    "\n",
    "O Método da Eliminação de Gauss com pivoteamento completo, também chamado de Método de Gauss-Jordan, é um método analítico utilizado para encontrar a solução de sistemas lineares, mas também pode ser utilizado para para encontrar a inversa de matrizes quadradas não-singulares.\n",
    "\n",
    "Dado o sistema linear $Ax = b$, onde:\n",
    "\n",
    "$$\n",
    "A =\n",
    "\\begin{bmatrix}\n",
    "13 & 7 & 3 \\\\\n",
    "5 & 19 & 1 \\\\\n",
    "2 & 11 & 23\n",
    "\\end{bmatrix},\\ b =\n",
    "\\begin{bmatrix}\n",
    "31 \\\\\n",
    "17 \\\\\n",
    "29\n",
    "\\end{bmatrix}\n",
    "$$\n",
    "\n",
    "Utilize o Método de Gauss-Jordan para encontrar o vetor solução do sistema linear acima. Não utilize funções prontas, como \"`np.linalg.solve()`\", para realizar o cálculo. Este exercício não contém entradas.\n",
    "\n",
    "#### Saída Esperada\n",
    "\n",
    "```\n",
    "[ 1.99666528  0.32013339  0.93413922]\n",
    "```"
   ]
  },
  {
   "cell_type": "code",
   "execution_count": 4,
   "metadata": {},
   "outputs": [
    {
     "name": "stdout",
     "output_type": "stream",
     "text": [
      "[1.99666528 0.32013339 0.93413922]\n"
     ]
    }
   ],
   "source": [
    "A = np.array([[13,  7,  3],\n",
    "              [ 5, 19,  1],\n",
    "              [ 2, 11, 23.0]])\n",
    "b = np.array([31, 17, 29.0])\n",
    "\n",
    "N = len(b)\n",
    "G = np.hstack((A, b[:, None]))\n",
    "\n",
    "for i in range(N):\n",
    "    G[i] = G[i] / G[i,i]\n",
    "    for j in range(i+1, N):\n",
    "        G[j,:] -= G[j,i] * G[i,:]\n",
    "\n",
    "for i in range(N-1, -1, -1):\n",
    "    for j in range(i-1, -1, -1):\n",
    "        G[j,:] -= G[j,i] * G[i,:]\n",
    "\n",
    "print(G[:,N])"
   ]
  },
  {
   "cell_type": "markdown",
   "metadata": {},
   "source": [
    "---\n",
    "\n",
    "## Questão 04\n",
    "\n",
    "O Método de Gauss-Jordan também pode ser utilizado para encontrar a inversa de matrizes quadradas não-singulares. Para isso, é preciso concatenar à matriz de coeficientes, uma matriz identidade ao invés de o vetor de termos independentes.\n",
    "\n",
    "Utilizando a mesma matriz do exercício acima:\n",
    "\n",
    "$$\n",
    "A =\n",
    "\\begin{bmatrix}\n",
    "13 & 7 & 3 \\\\\n",
    "5 & 19 & 1 \\\\\n",
    "2 & 11 & 23\n",
    "\\end{bmatrix}\n",
    "$$\n",
    "\n",
    "Calcule $A^{-1}$ utilizando o método de Gauss-Jordan. Não utilize funções prontas para realizar o cálculo.\n",
    "\n",
    "#### Saída Esperada\n",
    "\n",
    "```\n",
    "[[ 0.08878699 -0.02667778 -0.01042101]\n",
    " [-0.02355148  0.06106711  0.00041684]\n",
    " [ 0.00354314 -0.0268862   0.04418508]]\n",
    "```"
   ]
  },
  {
   "cell_type": "code",
   "execution_count": 5,
   "metadata": {},
   "outputs": [
    {
     "name": "stdout",
     "output_type": "stream",
     "text": [
      "[[ 0.08878699 -0.02667778 -0.01042101]\n",
      " [-0.02355148  0.06106711  0.00041684]\n",
      " [ 0.00354314 -0.0268862   0.04418508]]\n"
     ]
    }
   ],
   "source": [
    "N = 3\n",
    "A = np.array([[13,  7,  3],\n",
    "              [ 5, 19,  1],\n",
    "              [ 2, 11, 23.0]])\n",
    "\n",
    "G = np.hstack((A, np.identity(N)))\n",
    "\n",
    "for i in range(N):\n",
    "    G[i] = G[i] / G[i,i]\n",
    "    for j in range(i+1, N):\n",
    "        G[j,:] -= G[j,i] * G[i,:]\n",
    "\n",
    "for i in range(N-1, -1, -1):\n",
    "    for j in range(i-1, -1, -1):\n",
    "        G[j,:] -= G[j,i] * G[i,:]\n",
    "\n",
    "print(G[:,N:])"
   ]
  },
  {
   "cell_type": "markdown",
   "metadata": {},
   "source": [
    "---\n",
    "\n",
    "## Questão 05\n",
    "\n",
    "O Método de Jacobi é um método utilizado para encontrar a solução de sistemas lineares de forma numérica, ou seja, por aproximações sucessivas. Uma condição suficiente para que a solução aproximada convirja para a solução correta do sistema linear é: a matriz de coeficientes do sistema linear deve ser estritamente diagonal dominante. Uma matriz estritamente diagonal dominante satisfaz a seguinte equação:\n",
    "\n",
    "$$\n",
    "|a_{ii}| > \\sum_{j \\neq i}{|a_{ij}|}\n",
    "$$\n",
    "\n",
    "Utilizando a mesma matriz dos exercícios acima:\n",
    "\n",
    "$$\n",
    "A =\n",
    "\\begin{bmatrix}\n",
    "13 & 7 & 3 \\\\\n",
    "5 & 19 & 1 \\\\\n",
    "2 & 11 & 23\n",
    "\\end{bmatrix}\n",
    "$$\n",
    "\n",
    "Verifique se ela é uma matriz estritamente diagonal dominante.\n",
    "\n",
    "#### Saída Esperada\n",
    "\n",
    "A matriz \"A\" é uma matriz estritamente diagonal dominante."
   ]
  },
  {
   "cell_type": "markdown",
   "metadata": {},
   "source": [
    "## N = 3\n",
    "A = np.array([[13,  7,  3],\n",
    "              [ 5, 19,  1],\n",
    "              [ 2, 11, 23.0]])\n",
    "\n",
    "D = np.zeros(N)\n",
    "R = np.zeros(N)\n",
    "for i in range(N):\n",
    "    D[i] = abs(A[i,i])\n",
    "    for j in range(N):\n",
    "        R[i] += abs(A[i,j]) if i != j else 0\n",
    "\n",
    "is_diag_dom = True\n",
    "for i in range(N):\n",
    "    if D[i] <= R[i]:\n",
    "        is_diag_dom = False\n",
    "        break\n",
    "\n",
    "if is_diag_dom:\n",
    "    print('A matriz \"A\" é uma matriz estritamente diagonal dominante.')\n",
    "else:\n",
    "    print('A matriz \"A\" não é uma matriz estritamente diagonal dominante.')"
   ]
  },
  {
   "cell_type": "markdown",
   "metadata": {},
   "source": [
    "---\n",
    "\n",
    "## Questão 06\n",
    "\n",
    "O Método de Jacobi é um método utilizado para encontrar a solução de sistemas lineares de forma numérica, ou seja, por aproximações sucessivas. O método funciona da seguinte forma: dado um sistema linear $Ax = b$, divimos a matriz de coeficientes $A$ em $D+R$, onde $D$ é a matriz diagonal formada pela diagonal principal da matriz $A$, e $R$ é a matriz de resíduos, que é a matriz $A$ com todos os elementos da diagonal principal iguais a zero. A próxima aproximação para $x$, é calculada pela equação:\n",
    "\n",
    "$$\n",
    "x^{(novo)} = D^{-1}(b - Rx^{(antigo)})\n",
    "$$\n",
    "\n",
    "Utilizando o mesmo sistema linear $Ax = b$ dos exercícios anteriores:\n",
    "\n",
    "$$\n",
    "A =\n",
    "\\begin{bmatrix}\n",
    "13 & 7 & 3 \\\\\n",
    "5 & 19 & 1 \\\\\n",
    "2 & 11 & 23\n",
    "\\end{bmatrix}, b =\n",
    "\\begin{bmatrix}\n",
    "31 \\\\\n",
    "17 \\\\\n",
    "29\n",
    "\\end{bmatrix}\n",
    "$$\n",
    "\n",
    "Iniciando pela aproximação `x = np.zeros(3)`, encontre as 10 (dez) primeiras aproximações da solução do sistema linear acima, utilizando o Método de Jacobi. Não utilize funções prontas na implementação deste exercício. Este exercício não contém entradas.\n",
    "\n",
    "#### Saída Esperada\n",
    "\n",
    "```\n",
    "[ 0.  0.  0.]\n",
    "[ 2.38461538  0.89473684  1.26086957]\n",
    "[ 1.61186411  0.20084492  0.62559409]\n",
    "[ 2.13210025  0.43763607  1.0246512 ]\n",
    "[ 1.91250722  0.27972882  0.86616533]\n",
    "[ 2.03410787  0.34585782  0.96078124]\n",
    "[ 1.9766655   0.30887786  0.91858036]\n",
    "[ 2.00631645  0.32621537  0.94126141]\n",
    "[ 1.99174678  0.31721875  0.93039122]\n",
    "[ 1.99909962  0.32162499  0.93596088]\n",
    "```"
   ]
  },
  {
   "cell_type": "code",
   "execution_count": 7,
   "metadata": {},
   "outputs": [
    {
     "name": "stdout",
     "output_type": "stream",
     "text": [
      "[0. 0. 0.]\n",
      "[2.38461538 0.89473684 1.26086957]\n",
      "[1.61186411 0.20084492 0.62559409]\n",
      "[2.13210025 0.43763607 1.0246512 ]\n",
      "[1.91250722 0.27972882 0.86616533]\n",
      "[2.03410787 0.34585782 0.96078124]\n",
      "[1.9766655  0.30887786 0.91858036]\n",
      "[2.00631645 0.32621537 0.94126141]\n",
      "[1.99174678 0.31721875 0.93039122]\n",
      "[1.99909962 0.32162499 0.93596088]\n"
     ]
    }
   ],
   "source": [
    "A = np.array([[13,  7,  3],\n",
    "              [ 5, 19,  1],\n",
    "              [ 2, 11, 23.0]])\n",
    "b = np.array([31, 17, 29.0])\n",
    "\n",
    "N = len(b)\n",
    "x = np.zeros(N)\n",
    "\n",
    "D = np.zeros(N)\n",
    "R = np.zeros((N,N))\n",
    "for i in range(N):\n",
    "    for j in range(N):\n",
    "        R[i,j] = A[i,j]\n",
    "\n",
    "for i in range(N):\n",
    "    D[i] = 1.0 / A[i,i]\n",
    "    R[i,i] = 0\n",
    "\n",
    "x_next = D * (b - R.dot(x[:, None])[:,0])\n",
    "for i in range(10):\n",
    "    print(x)\n",
    "    x = x_next\n",
    "    x_next = D * (b - R.dot(x[:, None])[:,0])"
   ]
  },
  {
   "cell_type": "markdown",
   "metadata": {},
   "source": [
    "---\n",
    "\n",
    "## Questão 07\n",
    "\n",
    "Questões criadas para treinar a utilização da biblioteca \"numpy\" para manipulação de matrizes. Resolva os exercícios abaixo."
   ]
  },
  {
   "cell_type": "markdown",
   "metadata": {
    "collapsed": true
   },
   "source": [
    "**7.1.** Declare uma matriz `A` de tamanho `3x4` utilizando a função `np.array()` com quaisquer valores e, em seguida, imprima-a."
   ]
  },
  {
   "cell_type": "code",
   "execution_count": 8,
   "metadata": {},
   "outputs": [
    {
     "name": "stdout",
     "output_type": "stream",
     "text": [
      "[[13.  7.  3.  4.]\n",
      " [ 5. 19.  1.  4.]\n",
      " [ 2. 11. 23.  6.]]\n"
     ]
    }
   ],
   "source": [
    "A = np.array([[13,  7,  3, 4],\n",
    "              [ 5, 19,  1, 4],\n",
    "              [ 2, 11, 23.0, 6]])\n",
    "print(A)"
   ]
  },
  {
   "cell_type": "markdown",
   "metadata": {},
   "source": [
    "**7.2.** Utilizando a matriz definida acima, agora imprima sua transposta."
   ]
  },
  {
   "cell_type": "code",
   "execution_count": 9,
   "metadata": {},
   "outputs": [
    {
     "name": "stdout",
     "output_type": "stream",
     "text": [
      "[[13.  5.  2.]\n",
      " [ 7. 19. 11.]\n",
      " [ 3.  1. 23.]\n",
      " [ 4.  4.  6.]]\n"
     ]
    }
   ],
   "source": [
    "print(A.T)"
   ]
  },
  {
   "cell_type": "markdown",
   "metadata": {},
   "source": [
    "**7.3.** Imprima toda a segunda linha da matriz $A$ original definida no item 7.1."
   ]
  },
  {
   "cell_type": "code",
   "execution_count": 10,
   "metadata": {},
   "outputs": [
    {
     "name": "stdout",
     "output_type": "stream",
     "text": [
      "[ 5. 19.  1.  4.]\n"
     ]
    }
   ],
   "source": [
    "print(A[1,:])"
   ]
  },
  {
   "cell_type": "markdown",
   "metadata": {},
   "source": [
    "**7.4.** Imprima a segunda e a terceira colunas da segunda linha da matriz transposta $A^T$ gerada no item 7.2."
   ]
  },
  {
   "cell_type": "code",
   "execution_count": 11,
   "metadata": {},
   "outputs": [
    {
     "name": "stdout",
     "output_type": "stream",
     "text": [
      "[19. 11.]\n"
     ]
    }
   ],
   "source": [
    "print(A.T[1,1:3])"
   ]
  },
  {
   "cell_type": "markdown",
   "metadata": {},
   "source": [
    "**7.5.** Imprima o seguinte produto matricial: $AA^T$."
   ]
  },
  {
   "cell_type": "code",
   "execution_count": 12,
   "metadata": {},
   "outputs": [
    {
     "name": "stdout",
     "output_type": "stream",
     "text": [
      "[[243. 217. 196.]\n",
      " [217. 403. 266.]\n",
      " [196. 266. 690.]]\n"
     ]
    }
   ],
   "source": [
    "print(A.dot(A.T))"
   ]
  },
  {
   "cell_type": "markdown",
   "metadata": {},
   "source": [
    "---\n",
    "\n",
    "## Questão 08\n",
    "\n",
    "O Método de Gauss-Seidel é um método numérico utilizado para encontrar a solução de sistemas lineares. O método funciona da seguinte forma: dado um sistema linear $Ax = b$, divimos a matriz de coeficientes $A$ em $L_*+U$, onde $L_*$ é uma matriz triangular inferior formada pelos elementos da diagonal principal e abaixo da diagonal principal da matriz $A$, e $U$ é uma matriz triangular superior formada pelos elementos estritamente acima da diagonal princiapl da matriz $A$. $x$ é calculado iterativamente da forma:\n",
    "\n",
    "$$\n",
    "x^{(k+1)} = L_*^{-1}(b - Ux^{(k)})\n",
    "$$\n",
    "\n",
    "Utilizando o mesmo sistema linear abaixo:\n",
    "\n",
    "$$\n",
    "A =\n",
    "\\begin{bmatrix}\n",
    "13 & 7 & 3 \\\\\n",
    "5 & 19 & 1 \\\\\n",
    "2 & 11 & 23\n",
    "\\end{bmatrix},\\ b =\n",
    "\\begin{bmatrix}\n",
    "31 \\\\\n",
    "17 \\\\\n",
    "29\n",
    "\\end{bmatrix}\n",
    "$$\n",
    "\n",
    "Iniciando pela aproximação `x = np.zeros(3)`, encontre as 10 (dez) primeiras aproximações da solução do sistema linear, utilizando o Método de Gauss-Seidel. Não utilize funções prontas na implementação deste exercício. Este exercício não contém entradas.\n",
    "\n",
    "#### Saída Esperada\n",
    "\n",
    "```\n",
    "[ 0.  0.  0.]\n",
    "[ 2.38461538  0.89473684  1.26086957]\n",
    "[ 1.61186411  0.20084492  0.62559409]\n",
    "[ 2.13210025  0.43763607  1.0246512 ]\n",
    "[ 1.91250722  0.27972882  0.86616533]\n",
    "[ 2.03410787  0.34585782  0.96078124]\n",
    "[ 1.9766655   0.30887786  0.91858036]\n",
    "[ 2.00631645  0.32621537  0.94126141]\n",
    "[ 1.99174678  0.31721875  0.93039122]\n",
    "[ 1.99909962  0.32162499  0.93596088]\n",
    "```"
   ]
  },
  {
   "cell_type": "code",
   "execution_count": null,
   "metadata": {},
   "outputs": [],
   "source": []
  },
  {
   "cell_type": "markdown",
   "metadata": {},
   "source": [
    "---\n",
    "\n",
    "## Questão 09\n",
    "\n",
    "Na mesma linha das questões 06 e 08, utilize os Métodos de Jacobi e Gauss-Seidel para encontrar a solução do sistema abaixo:\n",
    "\n",
    "$$\n",
    "A =\n",
    "\\begin{bmatrix}\n",
    "13 & 7 & 3 \\\\\n",
    "5 & 19 & 1 \\\\\n",
    "2 & 11 & 23\n",
    "\\end{bmatrix},\\ b =\n",
    "\\begin{bmatrix}\n",
    "31 \\\\\n",
    "17 \\\\\n",
    "29\n",
    "\\end{bmatrix}\n",
    "$$\n",
    "\n",
    "Iniciando pela aproximação `x = np.zeros(3)`. Mostre a primeira aproximação $x^k$ tal que nenhuma das diferenças absolutas $|x_i^k - x_i^{k-1}|$ sejam maiores que $10^{-8}$. Mostre também a quantidade de iterações necessárias e o vetor de resíduos ($e = Ax^k - b$) encontrado, para ambos os métodos.\n",
    "\n",
    "#### Saída Esperada\n",
    "\n",
    "```\n",
    "Método de Jacobi: 27 iterações\n",
    "x =  [1.99666527 0.32013339 0.93413922]\n",
    "e =  [-9.07208886e-08 -8.03053837e-08 -1.20908751e-07] \n",
    "\n",
    "Método de Gauss-Seidel: 9 iterações\n",
    "x =  [1.99666528 0.32013339 0.93413922]\n",
    "e =  [ 4.54047218e-08 -1.17981358e-09  0.00000000e+00]\n",
    "```"
   ]
  },
  {
   "cell_type": "code",
   "execution_count": null,
   "metadata": {},
   "outputs": [],
   "source": []
  }
 ],
 "metadata": {
  "kernelspec": {
   "display_name": "Python 3",
   "language": "python",
   "name": "python3"
  },
  "language_info": {
   "codemirror_mode": {
    "name": "ipython",
    "version": 3
   },
   "file_extension": ".py",
   "mimetype": "text/x-python",
   "name": "python",
   "nbconvert_exporter": "python",
   "pygments_lexer": "ipython3",
   "version": "3.6.5"
  }
 },
 "nbformat": 4,
 "nbformat_minor": 2
}
