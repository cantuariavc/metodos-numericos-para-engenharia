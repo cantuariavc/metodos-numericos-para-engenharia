{
 "cells": [
  {
   "cell_type": "markdown",
   "metadata": {},
   "source": [
    "# Lista de Exercícios 5\n",
    "\n",
    "Métodos Numéricos para Engenharia - Turma C   \n",
    "Nome: Vinícius de Castro Cantuária   \n",
    "Matrícula: 14/0165169"
   ]
  },
  {
   "cell_type": "markdown",
   "metadata": {},
   "source": [
    "Observações:\n",
    "\n",
    "0. A lista de exercícios deve ser entregue no moodle da disciplina.\n",
    "0. A lista de exercícios deve ser respondida neste único arquivo (.ipynb). Responda a cada questão na célula imediatamente abaixo do seu enunciado.\n",
    "0. Não se esqueça de alterar o nome do arquivo e o cabeçalho acima, colocando seu nome e matrícula.\n",
    "0. A lista é uma atividade avaliativa e individual. Não será tolerado nenhum tipo de plágio."
   ]
  },
  {
   "cell_type": "code",
   "execution_count": 3,
   "metadata": {},
   "outputs": [
    {
     "name": "stdout",
     "output_type": "stream",
     "text": [
      "Populating the interactive namespace from numpy and matplotlib\n"
     ]
    }
   ],
   "source": [
    "# Deixe-me incluir o conjunto de módulos do Python científico para você.\n",
    "%pylab inline"
   ]
  },
  {
   "cell_type": "code",
   "execution_count": null,
   "metadata": {},
   "outputs": [],
   "source": []
  },
  {
   "cell_type": "markdown",
   "metadata": {},
   "source": [
    "---\n",
    "\n",
    "## Questão 01\n",
    "\n",
    "Métodos numéricos de integração são geralmente utilizados quando se deseja computar integrais definidas de funções muito complicadas para que tal cálculo seja realizado de forma analítica.\n",
    "\n",
    "O Método do Ponto Médio é um método de integração numérica que aproxima a área sob a curva por uma soma de retângulos com largura definida e finita.\n",
    "\n",
    "Seja $f(x)$ a função:\n",
    "\n",
    "$$ f(x) = xcos(x)^2 $$\n",
    "\n",
    "Dados os limites $a$ e $b$ e o tamanho da base $h$ dos retângulos, calcule $\\int_a^b{f(x)dx}$ utilizando o Método do Ponto Médio.\n",
    "\n",
    "### Entrada\n",
    "\n",
    "A entrada consiste de uma única linha contendo três valores de ponto flutuante: $a$, $b$ e $h$, respectivamente.\n",
    "\n",
    "### Saída\n",
    "\n",
    "A saída deve conter um único valor de ponto flutuante com 4 casas decimais de precisão, representando o valor da integral encontrada.\n",
    "\n",
    "#### Entrada de Teste\n",
    "0.0 10.0 1.0\n",
    "\n",
    "#### Saída de Teste\n",
    "27.6559"
   ]
  },
  {
   "cell_type": "code",
   "execution_count": 4,
   "metadata": {},
   "outputs": [
    {
     "name": "stdout",
     "output_type": "stream",
     "text": [
      "0.0 10.0 1.0\n",
      "27.6559\n"
     ]
    }
   ],
   "source": [
    "def f(x):\n",
    "    return x * cos(x)**2\n",
    "\n",
    "a, b, h = [float(x) for x in input().split()]\n",
    "area = 0\n",
    "while a < b:\n",
    "    area += f(a+h/2)\n",
    "    a += h\n",
    "print('%.4f' % area)"
   ]
  },
  {
   "cell_type": "markdown",
   "metadata": {},
   "source": [
    "---\n",
    "\n",
    "## Questão 02\n",
    "\n",
    "O Método dos Trapézios é um método de integração numérica que aproxima a integral definida por uma soma de trapézios.\n",
    "\n",
    "Seja $f(x)$ a função:\n",
    "\n",
    "$$ f(x) = xsin(x) + x $$\n",
    "\n",
    "Dados os limites $a$ e $b$ e o tamanho da divisão $h$, calcule $\\int_a^b{f(x)dx}$ utilizando o Método dos Trapézios.\n",
    "\n",
    "### Entrada\n",
    "\n",
    "A entrada consiste de uma única linha contendo três valores de ponto flutuante: $a$, $b$ e $h$, respectivamente.\n",
    "\n",
    "### Saída\n",
    "\n",
    "A saída deve conter um único valor de ponto flutuante com 4 casas decimais de precisão, representando o valor da integral encontrada.\n",
    "\n",
    "#### Entrada de Teste\n",
    "0.0 10.0 1.0\n",
    "\n",
    "#### Saída de Teste\n",
    "57.0878"
   ]
  },
  {
   "cell_type": "code",
   "execution_count": 5,
   "metadata": {},
   "outputs": [
    {
     "name": "stdout",
     "output_type": "stream",
     "text": [
      "0.0 10.0 1.0\n",
      "57.0878\n"
     ]
    }
   ],
   "source": [
    "def f(x):\n",
    "    return x * sin(x) + x\n",
    "\n",
    "a, b, h = [float(x) for x in input().split()]\n",
    "area = 0\n",
    "while a < b:\n",
    "    area += (f(a) + f(a + h)) / 2\n",
    "    a += h\n",
    "print('%.4f' % area)"
   ]
  },
  {
   "cell_type": "markdown",
   "metadata": {},
   "source": [
    "---\n",
    "\n",
    "## Questão 03\n",
    "\n",
    "A Regra de Simpson é uma regra de integração numérica que divide a função em pequenos intervalos e aproxima a função em cada intervalo por uma parábola escolhendo 3 pontos de referência no início, meio e fim do intervalo.\n",
    "\n",
    "Na regra de Simpson, a integral sobre cada segmento é aproximada pela seguinte fórmula\n",
    "\n",
    "$$ I_h = \\tfrac{h}{6} [ f(0) + 4 f(\\tfrac{h}{2}) + f(h) ] $$\n",
    "\n",
    "Seja $f(x)$ a função:\n",
    "\n",
    "$$ f(x) = \\sin{(x)}\\sqrt{x} $$\n",
    "\n",
    "Dados os limites $a$ e $b$ e o tamanho da divisão $h$, calcule $\\int_a^b{f(x)dx}$ utilizando a Regra de Simpson.\n",
    "\n",
    "### Entrada\n",
    "\n",
    "A entrada consiste de uma única linha contendo três valores de ponto flutuante: $a$, $b$ e $h$, respectivamente.\n",
    "\n",
    "### Saída\n",
    "\n",
    "A saída deve conter um único valor de ponto flutuante com 4 casas decimais de precisão, representando o valor da integral encontrada.\n",
    "\n",
    "#### Entrada de Teste\n",
    "0.0 10.0 1.0\n",
    "\n",
    "#### Saída de Teste\n",
    "3.2048"
   ]
  },
  {
   "cell_type": "code",
   "execution_count": 8,
   "metadata": {},
   "outputs": [
    {
     "name": "stdout",
     "output_type": "stream",
     "text": [
      "0.0 10.0 1.0\n",
      "3.6625\n"
     ]
    }
   ],
   "source": [
    "def f(x):\n",
    "    return sin(x) * x**.5\n",
    "\n",
    "a, b, h = [float(x) for x in input().split()]\n",
    "area = 0\n",
    "while a < b:\n",
    "    area += (f(0) + 4*f(h/2) + f(h)) / 6\n",
    "    a += h\n",
    "print('%.4f' % area)"
   ]
  },
  {
   "cell_type": "markdown",
   "metadata": {},
   "source": [
    "---\n",
    "\n",
    "## Questão 04\n",
    "\n",
    "A Regra da Quadratura Gaussiana é uma regra de integração numérica que divide o intervalo de integração em um conjunto de pequenos intervalos e aproxima a função em cada um desses intervalos por um polinômio, escolhendo sempre os pontos no intervalo de integração que fornecerão a melhor aproximação possível, para uma quantidade limite de pontos.\n",
    "\n",
    "Seja $f(x)$ a função:\n",
    "\n",
    "$$ f(x) = \\ln(x + 1)\\sin(x) $$\n",
    "\n",
    "Dados os limites $a$ e $b$ e o tamanho da divisão $h$, calcule $\\int_a^b{f(x)dx}$ utilizando a Regra da Quadratura Gaussiana com **n = 3**.\n",
    "\n",
    "### Entrada\n",
    "\n",
    "A entrada consiste de uma única linha contendo três valores de ponto flutuante: $a$, $b$ e $h$, respectivamente.\n",
    "\n",
    "### Saída\n",
    "\n",
    "A saída deve conter um único valor de ponto flutuante com 4 casas decimais de precisão, representando o valor da integral encontrada.\n",
    "\n",
    "#### Entrada de Teste\n",
    "0.0 10.0 1.0\n",
    "\n",
    "#### Saída de Teste\n",
    "2.3133"
   ]
  },
  {
   "cell_type": "code",
   "execution_count": 6,
   "metadata": {},
   "outputs": [
    {
     "name": "stdout",
     "output_type": "stream",
     "text": [
      "0.0 10.0 1.0\n",
      "2.3133\n"
     ]
    }
   ],
   "source": [
    "def f(x):\n",
    "    return log(x+1) * sin(x)\n",
    "\n",
    "a, b, h = [float(x) for x in input().split()]\n",
    "area = 0\n",
    "\n",
    "w = [5/9, 8/9, 5/9]\n",
    "x = [-(3/5)**.5, 0, (3/5)**.5]\n",
    "area = 0\n",
    "while a < b:\n",
    "    for i in range(len(w)):\n",
    "        area += (w[i] * f(a + h/2 * (x[i] + 1))) * h / 2\n",
    "    a += h\n",
    "print('%.4f' % area)"
   ]
  },
  {
   "cell_type": "markdown",
   "metadata": {},
   "source": [
    "---\n",
    "\n",
    "## Questão 05\n",
    "\n",
    "Você está trabalhando em um projeto secreto do governo e ficou encarregado de calcular a integral abaixo com pelo menos 4 casas decimais de precisão:\n",
    "\n",
    "$$ \\int_5^{10}{\\frac{x^2 + \\cos(\\ln(x^5 - 4)) + e^x}{x^3 - \\sin(x)}dx} $$\n",
    "\n",
    "Certifique-se de que a integral foi calculada corretamente com pelo menos 4 casas decimais de precisão. O projeto depende disso para ser bem-sucedido.\n",
    "\n",
    "### Entrada\n",
    "\n",
    "Este exercício não contém entradas. \n",
    "\n",
    "### Saída\n",
    "\n",
    "A saída deve conter um único valor de ponto flutuante com pelo menos 4 casas decimais de precisão, representando o valor da integral encontrada.\n",
    "\n",
    "#### Saída Esperada\n",
    "132.29153799"
   ]
  },
  {
   "cell_type": "code",
   "execution_count": 7,
   "metadata": {},
   "outputs": [
    {
     "name": "stdout",
     "output_type": "stream",
     "text": [
      "33.0948\n"
     ]
    }
   ],
   "source": [
    "def f(x):\n",
    "    return (x**2 + cos(log(x**5 - 4)) + exp(x)) / (x**3 - sin(x))\n",
    "\n",
    "a = 5\n",
    "b = 10\n",
    "area = 0\n",
    "\n",
    "# Integral calculada utilizando quadratura gaussiana de 3 pontos e h=1e-3.\n",
    "w = [5/9, 8/9, 5/9]\n",
    "x = [-(3/5)**.5, 0, (3/5)**.5]\n",
    "h = 1e-3\n",
    "area = 0\n",
    "while a < b:\n",
    "    for i in range(len(w)):\n",
    "        area += (w[i] * f(a + h/2 * (x[i] + 1))) * h / 2\n",
    "    a += h\n",
    "print('%.4f' % area)"
   ]
  },
  {
   "cell_type": "markdown",
   "metadata": {},
   "source": [
    "---\n",
    "\n",
    "## Questão 06\n",
    "\n",
    "Mediu-se a temperatura em um ambiente fechado ao longo do tempo, iniciando-se às 0h. Após diversas medições, descobriu-se a seguinte função:\n",
    "\n",
    "$$ T(t) = \\sin{(2t^2)} e^{\\cos({t})} $$\n",
    "\n",
    "Sabendo que a temperatura ($T$) foi medida em graus Celsius e o tempo ($t$) em horas, encontre a média de tempetura entre às 8h00 e 11h00 da manhã. Escreva o resultado com, pelo menos, quatro casas decimais de precisão.\n",
    "\n",
    "### Entrada\n",
    "\n",
    "Este exercício não contém entradas. \n",
    "\n",
    "### Saída\n",
    "\n",
    "A saída deve conter um único valor de ponto flutuante com pelo menos 4 casas decimais de precisão, representando o valor da integral encontrada.\n",
    "\n",
    "#### Saída Esperada\n",
    "0.01859632"
   ]
  },
  {
   "cell_type": "code",
   "execution_count": null,
   "metadata": {},
   "outputs": [],
   "source": []
  }
 ],
 "metadata": {
  "kernelspec": {
   "display_name": "Python 3",
   "language": "python",
   "name": "python3"
  },
  "language_info": {
   "codemirror_mode": {
    "name": "ipython",
    "version": 3
   },
   "file_extension": ".py",
   "mimetype": "text/x-python",
   "name": "python",
   "nbconvert_exporter": "python",
   "pygments_lexer": "ipython3",
   "version": "3.6.5"
  }
 },
 "nbformat": 4,
 "nbformat_minor": 2
}
